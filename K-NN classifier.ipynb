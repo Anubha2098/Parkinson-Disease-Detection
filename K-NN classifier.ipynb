{
 "cells": [
  {
   "cell_type": "markdown",
   "metadata": {},
   "source": [
    "## To implement K-NN (k-nearest neighbors) classifier"
   ]
  },
  {
   "cell_type": "markdown",
   "metadata": {},
   "source": [
    "* The k-nearest neighbors (KNN) algorithm is a supervised machine learning algorithm that can be used to solve both classification and regression problems.\n",
    "* The KNN algorithm assumes that similar things exist in close proximity. In other words, similar things are near to each other.\n",
    "* KNN works by finding the distances between a query and all the examples in the data, selecting the specified number examples (K) closest to the query, then votes for the most frequent label (in the case of classification)\n",
    "* It is based on instance learning, i.e , the lazy algorithm is not learnt during the training phase but only when they are called for testing"
   ]
  },
  {
   "cell_type": "markdown",
   "metadata": {},
   "source": [
    "#### 1. Import the necessary libraries"
   ]
  },
  {
   "cell_type": "code",
   "execution_count": 1,
   "metadata": {},
   "outputs": [],
   "source": [
    "import numpy as np\n",
    "import pandas as pd\n",
    "import matplotlib.pyplot as plt"
   ]
  },
  {
   "cell_type": "markdown",
   "metadata": {},
   "source": [
    "#### 2. The dataset is imported using the pandas library. It is imported in a dataframe from the data.csv file"
   ]
  },
  {
   "cell_type": "markdown",
   "metadata": {},
   "source": [
    "The dataset that I have selected contains 24 features (or attributes) and 194 rows (or instances). It is composed of biomedical voice measurements from 31 people, out of which 23 have Parkinson's Disease.\n",
    "* Each column is a particular voice measure\n",
    "* Each row corresponds to the voice recordings of these individuals\n",
    "* The aim here is to segregate healthy people from the people having Parkinson's Disease using the 'status' column which is set to '0' for healthy people and '1' for people with Parkinson"
   ]
  },
  {
   "cell_type": "code",
   "execution_count": 2,
   "metadata": {},
   "outputs": [
    {
     "data": {
      "text/plain": [
       "Index(['MDVP:Fo(Hz)', 'MDVP:Fhi(Hz)', 'MDVP:Flo(Hz)', 'MDVP:Jitter(%)',\n",
       "       'MDVP:Jitter(Abs)', 'MDVP:RAP', 'MDVP:PPQ', 'Jitter:DDP',\n",
       "       'MDVP:Shimmer', 'MDVP:Shimmer(dB)', 'Shimmer:APQ3', 'Shimmer:APQ5',\n",
       "       'MDVP:APQ', 'Shimmer:DDA', 'NHR', 'HNR', 'RPDE', 'DFA', 'spread1',\n",
       "       'spread2', 'D2', 'PPE', 'status'],\n",
       "      dtype='object')"
      ]
     },
     "execution_count": 2,
     "metadata": {},
     "output_type": "execute_result"
    }
   ],
   "source": [
    "dataset = pd.read_csv('data.csv')\n",
    "dataset=dataset.drop(['name'],axis=1)\n",
    "x=dataset.iloc[:,:-1].values\n",
    "y=dataset.loc[:,'status'].values\n",
    "dataset.columns"
   ]
  },
  {
   "cell_type": "markdown",
   "metadata": {
    "collapsed": true
   },
   "source": [
    "#### 3. Preprocessing the data using LabelEncoder, OneHotEncoder and MinMaxScaler Scaler before training it"
   ]
  },
  {
   "cell_type": "markdown",
   "metadata": {},
   "source": [
    "LabelEncoder and OneHotEncoder are parts of the SciKit Learn library in Python, and they are used to convert categorical data, or text data, into numbers, which our predictive models can better understand."
   ]
  },
  {
   "cell_type": "markdown",
   "metadata": {},
   "source": [
    "MinMaxScaler scales all features.\n",
    "\n",
    "This estimator scales and translates each feature individually such that the maximal absolute value of each feature in the training set will be 1.0. It does not shift/center the data, and thus does not destroy any sparsity."
   ]
  },
  {
   "cell_type": "code",
   "execution_count": 3,
   "metadata": {},
   "outputs": [],
   "source": [
    "from sklearn.preprocessing import MinMaxScaler\n",
    "scaler=MinMaxScaler((-1,1))\n",
    "x=scaler.fit_transform(x)"
   ]
  },
  {
   "cell_type": "markdown",
   "metadata": {},
   "source": [
    "#### 4. Splitting our dataset into Training set and Test set"
   ]
  },
  {
   "cell_type": "code",
   "execution_count": 4,
   "metadata": {},
   "outputs": [],
   "source": [
    "from sklearn.model_selection import train_test_split\n",
    "x_train, x_test, y_train, y_test = train_test_split(x, y, test_size = 0.2, random_state = 7)"
   ]
  },
  {
   "cell_type": "code",
   "execution_count": 5,
   "metadata": {},
   "outputs": [],
   "source": [
    "from sklearn.preprocessing import StandardScaler\n",
    "sc = StandardScaler()\n",
    "x_train = sc.fit_transform(x_train)\n",
    "x_test = sc.transform(x_test)"
   ]
  },
  {
   "cell_type": "markdown",
   "metadata": {},
   "source": [
    "- we can check how our training and testing data look after splitting"
   ]
  },
  {
   "cell_type": "code",
   "execution_count": 6,
   "metadata": {},
   "outputs": [
    {
     "data": {
      "text/plain": [
       "array([[-0.63138346, -0.77481654, -0.89037042, ...,  0.17153026,\n",
       "        -0.21867743, -0.0053808 ],\n",
       "       [-0.6033463 , -0.81013911, -0.4433544 , ...,  0.48267409,\n",
       "        -0.05370956,  0.34265204],\n",
       "       [-0.66992292, -0.88174367, -0.46942324, ...,  0.37274182,\n",
       "        -0.18236124,  0.19336492],\n",
       "       ...,\n",
       "       [ 0.00546073, -0.43717403, -0.89854572, ..., -0.31484696,\n",
       "         0.11793486, -0.63884033],\n",
       "       [ 0.28578581,  0.20361309, -0.89144127, ..., -0.09423055,\n",
       "        -0.36355605, -0.67372646],\n",
       "       [ 0.46654868, -0.35441175, -0.85610326, ..., -0.16981039,\n",
       "         0.00734563, -0.5690805 ]])"
      ]
     },
     "execution_count": 6,
     "metadata": {},
     "output_type": "execute_result"
    }
   ],
   "source": [
    "x"
   ]
  },
  {
   "cell_type": "code",
   "execution_count": 7,
   "metadata": {},
   "outputs": [
    {
     "data": {
      "text/plain": [
       "array([1, 1, 1, 1, 1, 1, 1, 1, 1, 1, 1, 1, 1, 1, 1, 1, 1, 1, 1, 1, 1, 1,\n",
       "       1, 1, 1, 1, 1, 1, 1, 1, 0, 0, 0, 0, 0, 0, 1, 1, 1, 1, 1, 1, 0, 0,\n",
       "       0, 0, 0, 0, 0, 0, 0, 0, 0, 0, 1, 1, 1, 1, 1, 1, 0, 0, 0, 0, 0, 0,\n",
       "       1, 1, 1, 1, 1, 1, 1, 1, 1, 1, 1, 1, 1, 1, 1, 1, 1, 1, 1, 1, 1, 1,\n",
       "       1, 1, 1, 1, 1, 1, 1, 1, 1, 1, 1, 1, 1, 1, 1, 1, 1, 1, 1, 1, 1, 1,\n",
       "       1, 1, 1, 1, 1, 1, 1, 1, 1, 1, 1, 1, 1, 1, 1, 1, 1, 1, 1, 1, 1, 1,\n",
       "       1, 1, 1, 1, 1, 1, 1, 1, 1, 1, 1, 1, 1, 1, 1, 1, 1, 1, 1, 1, 1, 1,\n",
       "       1, 1, 1, 1, 1, 1, 1, 1, 1, 1, 1, 0, 0, 0, 0, 0, 0, 0, 0, 0, 0, 0,\n",
       "       0, 1, 1, 1, 1, 1, 1, 0, 0, 0, 0, 0, 0, 0, 0, 0, 0, 0, 0],\n",
       "      dtype=int64)"
      ]
     },
     "execution_count": 7,
     "metadata": {},
     "output_type": "execute_result"
    }
   ],
   "source": [
    "y"
   ]
  },
  {
   "cell_type": "code",
   "execution_count": 8,
   "metadata": {},
   "outputs": [
    {
     "data": {
      "text/plain": [
       "array([[-0.16819857,  0.22629182, -0.83791837, ..., -0.34570641,\n",
       "        -0.09091189, -0.44537292],\n",
       "       [ 0.7757276 ,  0.08902002,  1.29455556, ..., -0.2861069 ,\n",
       "         0.06380775, -0.79700594],\n",
       "       [-0.9990015 , -0.80030161, -0.34048128, ...,  0.96627053,\n",
       "         0.18057631,  0.05524759],\n",
       "       ...,\n",
       "       [-0.40529647, -0.30011056, -1.18795762, ..., -0.23161627,\n",
       "        -0.14945383,  0.24009742],\n",
       "       [-1.18719615,  0.19253974, -0.92177382, ...,  0.14072248,\n",
       "         1.2844657 ,  0.16712639],\n",
       "       [-0.923594  , -0.84407052, -0.2394943 , ..., -0.32379079,\n",
       "        -0.96797356, -0.21704176]])"
      ]
     },
     "execution_count": 8,
     "metadata": {},
     "output_type": "execute_result"
    }
   ],
   "source": [
    "x_train"
   ]
  },
  {
   "cell_type": "code",
   "execution_count": 9,
   "metadata": {},
   "outputs": [
    {
     "data": {
      "text/plain": [
       "array([[ 1.33637433e+00,  7.80481192e-01, -6.65468467e-01,\n",
       "        -9.19486639e-02, -3.84987008e-01,  3.62748953e-02,\n",
       "        -1.64646798e-01,  3.73358622e-02, -8.02264470e-02,\n",
       "        -6.54117909e-02,  8.16620576e-02, -7.62944012e-02,\n",
       "        -2.84372497e-01,  8.16511519e-02, -1.30908407e-01,\n",
       "        -6.66142665e-01, -6.51438796e-01, -6.83163561e-01,\n",
       "        -4.30001659e-01, -1.14306017e+00,  1.12407821e+00,\n",
       "        -3.81473145e-01],\n",
       "       [-5.98052539e-01,  3.61520562e+00, -6.92990145e-01,\n",
       "        -5.59775979e-02,  2.09058227e-01, -2.75795895e-01,\n",
       "        -8.32249231e-02, -2.75903056e-01, -4.75604100e-01,\n",
       "        -2.81320130e-01, -6.73769701e-01, -5.21719612e-01,\n",
       "        -3.67897432e-01, -6.73464859e-01,  8.96100700e-03,\n",
       "         5.97702071e-01, -1.15785632e-01, -6.66674931e-01,\n",
       "        -4.21806198e-01,  6.54951741e-01,  8.70609267e-01,\n",
       "        -5.59939501e-01],\n",
       "       [ 2.35391207e-01,  1.27999359e-01, -9.48227563e-01,\n",
       "         2.84689557e-01,  2.09058227e-01,  2.06180103e-01,\n",
       "         1.98050644e-01,  2.06091884e-01, -6.61319848e-01,\n",
       "        -5.74338591e-01, -7.84833178e-01, -6.61121205e-01,\n",
       "        -5.04417500e-01, -7.84864482e-01, -1.39196965e-01,\n",
       "         3.91728804e-01, -9.73669293e-01,  2.33109235e-01,\n",
       "         1.38412378e-01, -4.98216599e-02,  8.85950972e-01,\n",
       "         1.28619616e-01],\n",
       "       [ 4.05844329e-01,  3.24692155e+00, -8.98101177e-01,\n",
       "        -1.10992169e-01, -3.84987008e-01, -2.65393535e-01,\n",
       "        -2.79377621e-01, -2.66656151e-01, -6.26198818e-01,\n",
       "        -5.17791169e-01, -7.65822312e-01, -6.42149391e-01,\n",
       "        -4.15132224e-01, -7.66186701e-01, -1.32980547e-01,\n",
       "         8.11580013e-01, -1.25508804e-01, -8.17547757e-01,\n",
       "         9.93524954e-01,  1.75528060e+00,  1.61921259e+00,\n",
       "         8.52791805e-01],\n",
       "       [-8.92336254e-01, -7.44002294e-01, -1.74505766e-01,\n",
       "         9.36400636e-01,  1.39714870e+00,  7.74842432e-01,\n",
       "         1.64513942e+00,  7.75932426e-01,  1.24053713e+00,\n",
       "         1.06039598e+00,  1.23532142e+00,  1.73922576e+00,\n",
       "         7.01221745e-01,  1.23500414e+00, -2.60676142e-01,\n",
       "        -3.26467454e-01, -6.68430468e-01,  1.96030253e+00,\n",
       "         1.13133825e+00,  1.02785151e+00, -1.84161387e-02,\n",
       "         1.39310040e+00],\n",
       "       [-6.09792198e-01, -5.02172838e-01, -9.73746855e-01,\n",
       "         1.99648911e+00,  2.28821655e+00,  2.02659305e+00,\n",
       "         2.11886669e+00,  2.02773223e+00,  1.73914932e+00,\n",
       "         1.58474480e+00,  1.70158791e+00,  1.58580152e+00,\n",
       "         1.61365966e+00,  1.70161514e+00,  2.46781351e+00,\n",
       "        -1.58918295e+00,  1.33650093e+00, -1.42602659e+00,\n",
       "         1.34560272e+00,  1.01579553e+00,  7.46653155e-01,\n",
       "         1.65588499e+00],\n",
       "       [ 3.64698275e-03, -3.79394805e-01,  2.05191042e-01,\n",
       "        -8.98123732e-01, -9.79032243e-01, -8.47925677e-01,\n",
       "        -8.75237704e-01, -8.46899460e-01, -9.96033904e-01,\n",
       "        -9.34185823e-01, -1.05398701e+00, -9.63020514e-01,\n",
       "        -8.65014809e-01, -1.05435818e+00, -5.36788727e-01,\n",
       "         1.42566040e+00, -2.25623970e+00, -5.29834190e-01,\n",
       "        -1.24647429e+00, -9.58317223e-01, -7.33764457e-01,\n",
       "        -1.20191767e+00],\n",
       "       [ 1.66875792e+00,  9.16227326e-01, -7.06628616e-01,\n",
       "        -5.40529017e-01, -6.82009626e-01, -5.25452527e-01,\n",
       "        -5.49550205e-01, -5.26725363e-01, -1.94635862e-01,\n",
       "        -2.60757431e-01, -1.43466612e-01, -2.23944610e-01,\n",
       "        -2.67091476e-01, -1.43482818e-01, -2.13016934e-01,\n",
       "        -3.90834099e-01,  6.39651329e-01, -2.71096729e+00,\n",
       "         2.28089268e-01,  1.43447221e+00,  1.26944189e+00,\n",
       "         3.11778748e-01],\n",
       "       [ 5.85084190e-01,  1.48120550e-01,  4.81653748e-01,\n",
       "        -6.06123314e-01, -6.82009626e-01, -5.46257247e-01,\n",
       "        -5.27344239e-01, -5.47530900e-01,  4.56167462e-01,\n",
       "         2.63591393e-01,  5.50930263e-01,  5.48950616e-01,\n",
       "         2.36938309e-01,  5.50930404e-01,  2.16433972e-01,\n",
       "        -1.39405038e+00,  9.44001889e-01, -1.44305456e-01,\n",
       "        -5.82906655e-01,  1.32125344e+00,  7.87984782e-01,\n",
       "        -6.44626214e-01],\n",
       "       [ 3.37999185e-01,  3.27081985e-02, -8.97300223e-01,\n",
       "        -3.50093961e-01, -3.84987008e-01, -3.48612413e-01,\n",
       "        -3.31191541e-01, -3.47566572e-01,  7.71192455e-01,\n",
       "         5.20625130e-01,  7.06018902e-01,  6.52058304e-01,\n",
       "         1.07910007e+00,  7.06356226e-01, -2.68187647e-01,\n",
       "         8.38981441e-02,  1.13833161e+00, -7.46624315e-01,\n",
       "         1.23134034e+00,  4.45476132e-01,  1.46643651e+00,\n",
       "         8.84384046e-01],\n",
       "       [ 1.80339188e+00,  6.11958400e-01, -1.37884358e-01,\n",
       "        -7.81746754e-01, -9.79032243e-01, -6.39878484e-01,\n",
       "        -7.27197932e-01, -6.39999953e-01, -6.15556082e-01,\n",
       "        -6.25745338e-01, -5.80716517e-01, -4.86250567e-01,\n",
       "        -6.55914452e-01, -5.80409484e-01, -4.90942641e-01,\n",
       "         5.53435886e-01, -1.85723626e+00, -7.09831966e-01,\n",
       "        -1.42706581e+00, -2.61160965e+00, -5.96477396e-01,\n",
       "        -1.21976756e+00],\n",
       "       [ 8.63287509e-02, -3.41878601e-01,  6.72058370e-01,\n",
       "        -5.04557951e-01, -6.82009626e-01, -4.14494024e-01,\n",
       "        -5.16241256e-01, -4.15762499e-01,  1.97016833e-01,\n",
       "         3.74017041e-02,  2.90781578e-01,  1.31570697e-01,\n",
       "         1.14243059e-01,  2.90775595e-01, -3.36050215e-01,\n",
       "        -9.11339628e-02, -5.02334243e-01, -2.66034721e-01,\n",
       "        -4.76117052e-01, -5.31607206e-01, -1.30170787e-02,\n",
       "        -4.24596825e-01],\n",
       "       [ 5.52337984e-01,  1.87012349e-01, -9.80154489e-01,\n",
       "         2.95269282e-01, -8.79643906e-02,  3.37943326e-01,\n",
       "         3.09080473e-01,  3.37860285e-01,  1.00746120e+00,\n",
       "         8.18784266e-01,  1.15727681e+00,  1.04964155e+00,\n",
       "         6.55139022e-01,  1.15729123e+00,  8.17095401e-01,\n",
       "        -1.85274743e+00,  5.40748143e-01,  1.79269950e-01,\n",
       "         3.77704317e-01,  1.40862944e+00,  1.93817324e+00,\n",
       "         4.12115270e-01],\n",
       "       [ 1.07824589e+00,  2.58055872e+00, -9.89943930e-01,\n",
       "         2.80457667e-01, -8.79643906e-02,  1.71505571e-01,\n",
       "         1.98050644e-01,  1.70260126e-01, -3.22348697e-01,\n",
       "        -1.78506635e-01, -2.57531805e-01, -3.53447865e-01,\n",
       "        -4.51998402e-01, -2.57884227e-01,  1.27115296e+00,\n",
       "        -6.94825346e-01, -4.64740525e-01, -1.41432078e+00,\n",
       "        -9.19440935e-01, -2.10201983e-01, -5.44756003e-01,\n",
       "        -8.75558449e-01],\n",
       "       [-1.37036862e-01, -4.32980451e-01,  3.48027882e-01,\n",
       "        -4.55891214e-01, -3.84987008e-01, -4.04091664e-01,\n",
       "        -3.90407450e-01, -4.04203867e-01, -7.72536442e-01,\n",
       "        -7.43980858e-01, -7.97840612e-01, -7.20511233e-01,\n",
       "        -6.39209465e-01, -7.97872222e-01, -4.59860549e-01,\n",
       "         3.58303318e-01, -9.68301491e-01,  1.08675874e+00,\n",
       "         1.39839529e-03,  1.88731537e-01,  1.28120921e+00,\n",
       "        -1.23153743e-01],\n",
       "       [-1.26978189e+00, -1.00776622e+00, -5.28861272e-01,\n",
       "        -3.07897134e-03,  5.06080845e-01,  1.05623960e-01,\n",
       "         4.26088831e-02,  1.05531789e-01, -2.52638775e-01,\n",
       "        -3.07023504e-01, -1.51471187e-01, -2.70961715e-01,\n",
       "        -3.58104854e-01, -1.51154049e-01, -2.79325397e-01,\n",
       "        -3.52439960e-01,  5.22753589e-01,  1.26443024e+00,\n",
       "         6.15293361e-01, -9.32438648e-01,  2.03973962e-01,\n",
       "         6.56475562e-01],\n",
       "       [ 1.17110683e+00,  4.69120789e+00,  1.28730247e+00,\n",
       "         2.15730094e+00,  1.10012608e+00,  2.07513739e+00,\n",
       "         2.31872038e+00,  2.07396676e+00,  2.27128613e+00,\n",
       "         2.86477282e+00,  1.99375489e+00,  2.07494439e+00,\n",
       "         2.35443944e+00,  1.99412253e+00,  1.44365857e+00,\n",
       "        -1.60521815e+00, -6.90092702e-01,  1.03760922e+00,\n",
       "         7.30952097e-01,  4.44246660e-01,  1.44947173e+00,\n",
       "         7.16159428e-01],\n",
       "       [ 2.20049964e+00,  8.93942700e-01,  2.50186058e+00,\n",
       "        -7.88094589e-01, -9.79032243e-01, -6.71085563e-01,\n",
       "        -6.97589977e-01, -6.72364122e-01, -6.88458825e-01,\n",
       "        -6.92574110e-01, -6.16737104e-01, -6.37200222e-01,\n",
       "        -7.04877346e-01, -6.16430920e-01, -4.76437664e-01,\n",
       "         5.65857520e-01, -3.09360802e-01, -1.64328197e+00,\n",
       "        -1.28612831e+00, -1.16288689e+00,  1.10455729e-01,\n",
       "        -1.15701659e+00],\n",
       "       [-8.84605845e-01, -5.76992656e-01, -4.33302981e-01,\n",
       "        -5.38413072e-01, -3.84987008e-01, -5.01180355e-01,\n",
       "        -4.38520376e-01, -5.01296373e-01, -6.62384122e-01,\n",
       "        -6.72011411e-01, -6.41751401e-01, -5.67086994e-01,\n",
       "        -6.07527593e-01, -6.41779337e-01, -4.46909677e-01,\n",
       "         7.56247282e-01, -1.07352760e+00,  6.79809671e-01,\n",
       "        -2.67138603e-01,  5.05413764e-02, -1.23136447e+00,\n",
       "        -4.44083222e-01],\n",
       "       [ 7.12275830e-01,  3.27748138e-01,  9.33147204e-01,\n",
       "         1.81663378e+00,  1.10012608e+00,  1.83241567e+00,\n",
       "         1.78577720e+00,  1.83123550e+00,  1.67529290e+00,\n",
       "         1.75952774e+00,  1.34338318e+00,  1.93966711e+00,\n",
       "         2.29626000e+00,  1.34340198e+00,  9.69138635e-01,\n",
       "        -1.74569553e+00, -2.08738390e-01,  9.12288187e-01,\n",
       "         1.27977259e+00,  1.55978276e+00,  2.04947038e+00,\n",
       "         1.43050172e+00],\n",
       "       [-9.05108234e-01, -7.36248945e-01, -2.13218554e-01,\n",
       "        -4.79166610e-01, -3.84987008e-01, -4.83843089e-01,\n",
       "        -3.86706456e-01, -4.85114289e-01,  6.61111769e-02,\n",
       "        -4.48490919e-02, -8.38941026e-03,  5.15591314e-02,\n",
       "         2.28873833e-01, -8.06890409e-03, -1.26505111e-01,\n",
       "        -7.44286031e-01,  1.19326084e+00, -4.44860054e-01,\n",
       "        -1.36857783e-01,  9.55662781e-02,  2.48789520e-01,\n",
       "        -2.07092647e-01],\n",
       "       [-3.24343237e-01, -3.85559968e-01, -1.16533066e+00,\n",
       "         4.43385437e-01,  5.06080845e-01,  3.79552765e-01,\n",
       "         3.83100359e-01,  3.78315496e-01,  1.57638709e-01,\n",
       "         1.91621947e-01,  3.07791299e-01,  4.99094084e-02,\n",
       "         3.18701910e-02,  3.07785717e-01, -3.42949045e-02,\n",
       "        -5.72867490e-01, -3.79562484e-01,  1.77707052e-02,\n",
       "         2.70316786e-01,  2.13205495e-02,  2.73660296e-02,\n",
       "         2.39111175e-01],\n",
       "       [-1.03371632e+00, -7.81643553e-01, -2.68818128e-01,\n",
       "        -2.40064818e-01, -8.79643906e-02, -2.09914284e-01,\n",
       "        -1.97955746e-01, -2.10018855e-01, -2.44656723e-01,\n",
       "        -3.07023504e-01, -9.04363032e-02, -3.50148419e-01,\n",
       "        -3.12022131e-01, -9.07847922e-02, -4.75660612e-01,\n",
       "         7.54666347e-01, -6.00272753e-01,  1.78573893e+00,\n",
       "         3.55918668e-01, -2.76963456e-01, -3.19367861e-01,\n",
       "         4.38050170e-01],\n",
       "       [-3.51159594e-01,  4.95165789e+00, -1.18455356e+00,\n",
       "         5.08576890e+00,  5.25844273e+00,  5.31720616e+00,\n",
       "         4.77988159e+00,  5.31847467e+00,  3.46806183e+00,\n",
       "         3.36341827e+00,  4.03091921e+00,  2.68534190e+00,\n",
       "         2.10271256e+00,  4.03133481e+00,  6.11659210e+00,\n",
       "        -2.62153361e+00,  9.21537350e-01, -1.46155345e+00,\n",
       "         2.17721695e+00,  5.44036739e-01,  8.82697062e-01,\n",
       "         2.60845336e+00],\n",
       "       [-6.73652100e-01, -6.25876271e-01, -5.16001506e-01,\n",
       "         1.63043062e+00,  1.99119393e+00,  1.75266424e+00,\n",
       "         1.17881413e+00,  1.75263680e+00,  9.51054699e-01,\n",
       "         7.51955494e-01,  1.02019847e+00,  7.26295839e-01,\n",
       "         8.84400569e-01,  1.01987612e+00,  2.07410701e+00,\n",
       "        -1.50494169e+00,  6.79394078e-01, -5.40832814e-01,\n",
       "         4.93318498e-01, -2.73561521e-01,  2.38363570e-01,\n",
       "         6.09970483e-01],\n",
       "       [-8.35342492e-01, -8.17759153e-01, -7.25384294e-01,\n",
       "        -5.53224687e-01, -3.84987008e-01, -5.25452527e-01,\n",
       "        -6.16168103e-01, -5.24413637e-01, -9.05038509e-01,\n",
       "        -8.72497726e-01, -8.89893224e-01, -8.64861996e-01,\n",
       "        -8.39669311e-01, -8.90260533e-01, -3.65837220e-01,\n",
       "         2.91904041e-01, -2.76093800e-01,  2.52147819e-02,\n",
       "         2.46513682e-01,  3.56249954e-01,  4.31447811e-01,\n",
       "         3.04712490e-01],\n",
       "       [ 1.97698998e+00,  6.76011067e-01, -3.84044295e-01,\n",
       "        -6.99224896e-01, -9.79032243e-01, -5.77464326e-01,\n",
       "        -6.79085006e-01, -5.77583342e-01, -2.41463902e-01,\n",
       "        -3.01882829e-01, -1.12448884e-01, -2.66837408e-01,\n",
       "        -4.32989279e-01, -1.12130828e-01, -4.39139154e-01,\n",
       "         4.47513231e-01, -2.86065305e-01, -1.70694744e+00,\n",
       "        -9.83162711e-01, -6.30179751e-01, -2.95119904e-01,\n",
       "        -9.15159837e-01],\n",
       "       [ 1.04862527e-01,  3.15075501e+00, -1.05571117e+00,\n",
       "        -2.78151829e-01, -3.84987008e-01, -3.69417132e-01,\n",
       "        -4.79231313e-01, -3.69527972e-01, -7.68279348e-01,\n",
       "        -6.56589387e-01, -9.16908664e-01, -8.26918367e-01,\n",
       "        -6.10983797e-01, -9.16943077e-01, -1.97216871e-01,\n",
       "         9.61994701e-01, -4.68780704e-01, -1.23069402e+00,\n",
       "        -3.01601063e-01,  5.75537459e-01,  7.53163558e-01,\n",
       "        -3.68348547e-01],\n",
       "       [-7.56597951e-01, -6.03216483e-01, -5.47416712e-01,\n",
       "         2.52950381e-01,  5.06080845e-01,  3.27540966e-01,\n",
       "         9.29993440e-03,  3.28613380e-01, -3.23945108e-01,\n",
       "        -2.71038781e-01, -3.17566117e-01, -3.79843433e-01,\n",
       "        -3.46584173e-01, -3.17586421e-01,  2.26794669e-01,\n",
       "         1.93434366e-01,  1.06783384e+00, -1.79071191e+00,\n",
       "         2.47435973e-01,  6.52711560e-02,  9.05254743e-01,\n",
       "         1.78311014e-01],\n",
       "       [-1.48719364e+00, -9.34584614e-01, -7.36575405e-01,\n",
       "        -1.42731345e-01,  5.06080845e-01, -1.37097766e-01,\n",
       "        -1.80304851e-03, -1.36043613e-01, -7.96943102e-02,\n",
       "        -1.37381237e-01, -9.84408781e-02, -8.94921852e-02,\n",
       "        -9.14010935e-02, -9.84560237e-02, -3.04191071e-01,\n",
       "        -1.54145521e-01,  7.97638544e-01,  1.35048376e+00,\n",
       "         6.70589773e-01,  1.65324644e+00,  7.57500381e-01,\n",
       "         7.78563587e-01],\n",
       "       [ 4.81275838e-01,  2.59418624e-01, -9.94994392e-01,\n",
       "        -3.37398291e-01, -3.84987008e-01, -2.89665708e-01,\n",
       "        -3.05284581e-01, -2.90929277e-01,  2.03554953e+00,\n",
       "         1.92402934e+00,  2.26691101e+00,  2.06587092e+00,\n",
       "         1.39937500e+00,  2.26661802e+00,  4.91769504e-01,\n",
       "        -1.66168012e+00,  9.50277059e-01,  4.46344814e-01,\n",
       "        -6.28206159e-02,  8.92012862e-01,  1.69986767e+00,\n",
       "        -1.08826147e-01],\n",
       "       [-8.87606780e-01, -7.34173048e-01, -2.50195942e-01,\n",
       "         3.82023030e-01,  8.03103462e-01,  4.66772550e-02,\n",
       "         5.79253057e-01,  4.77386307e-02, -1.36632949e-01,\n",
       "        -5.51304414e-02, -1.28458034e-01, -1.02689969e-01,\n",
       "        -1.35755715e-01, -1.28140355e-01, -3.96142260e-01,\n",
       "         1.14387608e-01,  3.83677848e-01,  1.73966010e+00,\n",
       "         1.10141863e+00,  4.48448348e-01, -1.35008176e+00,\n",
       "         1.32333737e+00],\n",
       "       [ 9.40586984e-01,  2.28780390e-01, -8.69956535e-01,\n",
       "         3.35472238e-01, -8.79643906e-02,  4.48901829e-01,\n",
       "         1.94349649e-01,  4.49979013e-01,  7.56896395e-02,\n",
       "        -3.72369389e-03,  2.48757559e-01,  5.40337159e-02,\n",
       "        -1.66285519e-01,  2.48417055e-01, -3.54440453e-01,\n",
       "        -3.67046237e-02, -2.22024913e-02,  3.83107382e-01,\n",
       "        -1.17914748e-01,  6.39983229e-01,  6.70332311e-01,\n",
       "        -1.99690417e-01],\n",
       "       [-3.75983331e-01,  1.61526340e-01, -8.02253653e-01,\n",
       "         2.04283645e-01,  2.09058227e-01,  2.96333887e-01,\n",
       "         2.27658598e-01,  2.96249211e-01,  8.39305968e-01,\n",
       "         8.49628314e-01,  1.06522420e+00,  6.74329564e-01,\n",
       "         4.88089150e-01,  1.06523645e+00, -8.99836528e-02,\n",
       "        -8.56306580e-01,  3.64260158e-01,  4.00619572e-01,\n",
       "         2.61972511e-01, -7.73454908e-01, -6.69252280e-01,\n",
       "         2.79601265e-01],\n",
       "       [ 4.88238007e-01,  5.04874646e-01, -5.59275284e-01,\n",
       "        -3.14122895e-01, -3.84987008e-01, -1.99511924e-01,\n",
       "        -2.86779610e-01, -1.98460224e-01,  6.30708337e-01,\n",
       "         6.64564023e-01,  8.14080663e-01,  6.17414121e-01,\n",
       "         2.14472982e-01,  8.14086999e-01,  1.16194225e-01,\n",
       "        -5.82578949e-01, -4.91312101e-01, -1.15483887e+00,\n",
       "        -7.35882048e-01, -1.23080621e+00,  7.96268165e-01,\n",
       "        -7.69954746e-01],\n",
       "       [-9.68243295e-02, -3.40002790e-01,  5.64841745e-01,\n",
       "        -5.74384138e-01, -6.82009626e-01, -5.08115261e-01,\n",
       "        -5.12540262e-01, -5.09387416e-01, -4.02701356e-01,\n",
       "        -3.99555650e-01, -3.67594710e-01, -3.36950635e-01,\n",
       "        -4.07067747e-01, -3.67949724e-01, -4.45614590e-01,\n",
       "         2.05855999e-01, -1.62659270e+00,  6.92799584e-01,\n",
       "        -5.02933860e-01, -1.38067038e+00, -3.62772272e-01,\n",
       "        -5.17238496e-01],\n",
       "       [-1.40362360e+00, -1.10623376e+00, -6.48203454e-01,\n",
       "         1.15291878e-03,  5.06080845e-01,  3.62748953e-02,\n",
       "        -1.66070257e-02,  3.73358622e-02,  1.59767256e-01,\n",
       "        -6.54117909e-02,  2.80775859e-01,  1.12598882e-01,\n",
       "         4.74231101e-02,  2.80436109e-01, -3.24653448e-01,\n",
       "        -5.00296486e-02,  1.38565166e+00,  1.11026341e+00,\n",
       "         5.32488646e-01,  2.91613199e-01, -8.57108039e-01,\n",
       "         6.06068869e-01],\n",
       "       [-4.47040861e-02, -4.16010621e-01,  2.99436658e-01,\n",
       "        -9.17167238e-01, -9.79032243e-01, -8.51393130e-01,\n",
       "        -8.90041681e-01, -8.51522913e-01, -9.99226725e-01,\n",
       "        -9.39326498e-01, -1.06799502e+00, -9.67969683e-01,\n",
       "        -7.94738656e-01, -1.06836652e+00, -5.38083814e-01,\n",
       "         1.76872333e+00, -1.80050184e+00, -8.16747518e-01,\n",
       "        -9.14605818e-01, -7.68453468e-01, -1.35717115e-01,\n",
       "        -9.64168452e-01],\n",
       "       [-8.34286162e-01, -7.77379211e-01, -6.80041385e-01,\n",
       "         1.78892304e-01,  5.06080845e-01,  2.51256995e-01,\n",
       "        -1.35038843e-01,  2.51170548e-01, -1.16943887e-01,\n",
       "        -2.04210009e-01, -3.84065662e-02, -2.84159499e-01,\n",
       "        -2.04303765e-01, -3.87538303e-02,  5.94599425e-01,\n",
       "        -6.15478905e-02,  1.44989336e+00, -1.12815186e+00,\n",
       "         1.31325752e+00, -5.89344600e-01,  2.62963022e-01,\n",
       "         4.69945869e-01]])"
      ]
     },
     "execution_count": 9,
     "metadata": {},
     "output_type": "execute_result"
    }
   ],
   "source": [
    "x_test"
   ]
  },
  {
   "cell_type": "code",
   "execution_count": 10,
   "metadata": {},
   "outputs": [
    {
     "data": {
      "text/plain": [
       "array([1, 1, 1, 0, 1, 0, 1, 1, 0, 1, 1, 1, 1, 1, 1, 1, 1, 0, 1, 0, 0, 1,\n",
       "       1, 0, 0, 0, 1, 1, 1, 1, 1, 1, 1, 1, 1, 0, 1, 1, 1, 1, 0, 1, 0, 0,\n",
       "       1, 1, 1, 0, 0, 1, 1, 0, 1, 1, 1, 1, 1, 1, 1, 1, 1, 1, 1, 1, 0, 1,\n",
       "       1, 1, 1, 1, 1, 0, 1, 0, 1, 1, 1, 0, 1, 1, 0, 1, 1, 1, 1, 1, 1, 1,\n",
       "       1, 0, 1, 1, 1, 1, 1, 1, 1, 0, 0, 0, 1, 1, 0, 1, 0, 1, 0, 1, 0, 0,\n",
       "       1, 0, 1, 0, 1, 1, 1, 1, 1, 0, 1, 1, 1, 1, 1, 0, 1, 1, 1, 1, 0, 1,\n",
       "       1, 1, 1, 1, 0, 1, 1, 0, 1, 0, 1, 0, 1, 1, 1, 1, 1, 0, 1, 1, 1, 1,\n",
       "       1, 0], dtype=int64)"
      ]
     },
     "execution_count": 10,
     "metadata": {},
     "output_type": "execute_result"
    }
   ],
   "source": [
    "y_train"
   ]
  },
  {
   "cell_type": "code",
   "execution_count": 11,
   "metadata": {},
   "outputs": [
    {
     "data": {
      "text/plain": [
       "array([0, 1, 1, 1, 1, 1, 1, 1, 1, 1, 0, 1, 1, 0, 1, 1, 1, 0, 0, 1, 1, 1,\n",
       "       1, 1, 1, 1, 0, 1, 1, 1, 1, 1, 1, 1, 0, 1, 1, 1, 1], dtype=int64)"
      ]
     },
     "execution_count": 11,
     "metadata": {},
     "output_type": "execute_result"
    }
   ],
   "source": [
    "y_test"
   ]
  },
  {
   "cell_type": "markdown",
   "metadata": {},
   "source": [
    "#### 5. Import KNN model"
   ]
  },
  {
   "cell_type": "markdown",
   "metadata": {},
   "source": [
    "* Create a KNN classifier \n",
    "* Train the model using the training sets"
   ]
  },
  {
   "cell_type": "markdown",
   "metadata": {},
   "source": [
    "Using metric : \"euclidean\", neighbors (k) = 3"
   ]
  },
  {
   "cell_type": "code",
   "execution_count": 12,
   "metadata": {},
   "outputs": [
    {
     "data": {
      "text/plain": [
       "KNeighborsClassifier(algorithm='auto', leaf_size=30, metric='euclidean',\n",
       "                     metric_params=None, n_jobs=None, n_neighbors=3, p=3,\n",
       "                     weights='uniform')"
      ]
     },
     "execution_count": 12,
     "metadata": {},
     "output_type": "execute_result"
    }
   ],
   "source": [
    "from sklearn.neighbors import KNeighborsClassifier\n",
    "#Create a KNN classifier\n",
    "e_clf = KNeighborsClassifier(n_neighbors = 3 ,metric = 'euclidean',p=3)\n",
    "#Train the model using the training sets\n",
    "e_clf.fit(x_train,y_train)"
   ]
  },
  {
   "cell_type": "markdown",
   "metadata": {},
   "source": [
    "Using metric : 'manhattan' , neighbors (k) = 5"
   ]
  },
  {
   "cell_type": "code",
   "execution_count": 13,
   "metadata": {},
   "outputs": [
    {
     "data": {
      "text/plain": [
       "KNeighborsClassifier(algorithm='auto', leaf_size=30, metric='manhattan',\n",
       "                     metric_params=None, n_jobs=None, n_neighbors=5, p=2,\n",
       "                     weights='uniform')"
      ]
     },
     "execution_count": 13,
     "metadata": {},
     "output_type": "execute_result"
    }
   ],
   "source": [
    "from sklearn.neighbors import KNeighborsClassifier\n",
    "#Create a KNN classifier\n",
    "m_clf = KNeighborsClassifier(n_neighbors = 5 ,metric = 'manhattan',p=2)\n",
    "#Train the model using the training sets\n",
    "m_clf.fit(x_train,y_train)"
   ]
  },
  {
   "cell_type": "markdown",
   "metadata": {},
   "source": [
    "Using metric : \"minkowski\", neighnors (k) = 7"
   ]
  },
  {
   "cell_type": "code",
   "execution_count": 14,
   "metadata": {},
   "outputs": [
    {
     "data": {
      "text/plain": [
       "KNeighborsClassifier(algorithm='auto', leaf_size=30, metric='minkowski',\n",
       "                     metric_params=None, n_jobs=None, n_neighbors=7, p=2,\n",
       "                     weights='uniform')"
      ]
     },
     "execution_count": 14,
     "metadata": {},
     "output_type": "execute_result"
    }
   ],
   "source": [
    "from sklearn.neighbors import KNeighborsClassifier\n",
    "#Create a KNN classifier\n",
    "min_clf = KNeighborsClassifier(n_neighbors = 7, metric = 'minkowski',p=2)\n",
    "#Train the model using the training sets\n",
    "min_clf.fit(x_train,y_train)"
   ]
  },
  {
   "cell_type": "markdown",
   "metadata": {},
   "source": [
    "#### 6. Predict the output using the .predict() method provided by sklearn"
   ]
  },
  {
   "cell_type": "code",
   "execution_count": 15,
   "metadata": {},
   "outputs": [
    {
     "data": {
      "text/plain": [
       "array([0, 1, 1, 1, 1, 1, 1, 1, 1, 1, 0, 1, 1, 0, 1, 1, 1, 0, 0, 1, 1, 1,\n",
       "       1, 1, 1, 1, 1, 1, 1, 1, 1, 1, 1, 1, 1, 1, 1, 1, 1], dtype=int64)"
      ]
     },
     "execution_count": 15,
     "metadata": {},
     "output_type": "execute_result"
    }
   ],
   "source": [
    "e_preds=e_clf.predict(x_test)\n",
    "e_preds"
   ]
  },
  {
   "cell_type": "code",
   "execution_count": 16,
   "metadata": {},
   "outputs": [
    {
     "data": {
      "text/plain": [
       "array([0, 1, 1, 1, 1, 1, 1, 1, 1, 1, 0, 1, 1, 1, 1, 1, 1, 0, 0, 1, 1, 1,\n",
       "       1, 1, 1, 1, 0, 1, 1, 1, 1, 1, 1, 1, 1, 1, 1, 1, 1], dtype=int64)"
      ]
     },
     "execution_count": 16,
     "metadata": {},
     "output_type": "execute_result"
    }
   ],
   "source": [
    "m_preds=m_clf.predict(x_test)\n",
    "m_preds"
   ]
  },
  {
   "cell_type": "code",
   "execution_count": 17,
   "metadata": {},
   "outputs": [
    {
     "data": {
      "text/plain": [
       "array([1, 1, 1, 1, 1, 1, 1, 1, 1, 1, 0, 1, 1, 1, 1, 1, 1, 0, 0, 1, 1, 1,\n",
       "       0, 1, 1, 1, 0, 1, 1, 1, 1, 1, 1, 1, 1, 1, 1, 1, 1], dtype=int64)"
      ]
     },
     "execution_count": 17,
     "metadata": {},
     "output_type": "execute_result"
    }
   ],
   "source": [
    "min_preds=min_clf.predict(x_test)\n",
    "min_preds"
   ]
  },
  {
   "cell_type": "markdown",
   "metadata": {},
   "source": [
    "#### 7. Import classification report, accuracy score and confusion matrix to view the results"
   ]
  },
  {
   "cell_type": "code",
   "execution_count": 18,
   "metadata": {},
   "outputs": [],
   "source": [
    "#making the confusion matrix\n",
    "from sklearn.metrics import confusion_matrix, classification_report,accuracy_score,plot_confusion_matrix"
   ]
  },
  {
   "cell_type": "markdown",
   "metadata": {},
   "source": [
    "* Print the <b>confusion matrix</b>"
   ]
  },
  {
   "cell_type": "code",
   "execution_count": 19,
   "metadata": {},
   "outputs": [
    {
     "name": "stdout",
     "output_type": "stream",
     "text": [
      "[[ 5  2]\n",
      " [ 0 32]]\n"
     ]
    }
   ],
   "source": [
    "cm = confusion_matrix(y_test,e_preds)\n",
    "print(cm)"
   ]
  },
  {
   "cell_type": "code",
   "execution_count": 20,
   "metadata": {},
   "outputs": [
    {
     "name": "stdout",
     "output_type": "stream",
     "text": [
      "Confusion matrix, without normalization\n",
      "[[ 5  2]\n",
      " [ 0 32]]\n",
      "Normalized confusion matrix\n",
      "[[0.71428571 0.28571429]\n",
      " [0.         1.        ]]\n"
     ]
    },
    {
     "data": {
      "image/png": "[encoded data removed]",
      "text/plain": [
       "<Figure size 432x288 with 2 Axes>"
      ]
     },
     "metadata": {
      "needs_background": "light"
     },
     "output_type": "display_data"
    },
    {
     "data": {
      "image/png": "[encoded data removed]",
      "text/plain": [
       "<Figure size 432x288 with 2 Axes>"
      ]
     },
     "metadata": {
      "needs_background": "light"
     },
     "output_type": "display_data"
    }
   ],
   "source": [
    "# Plot non-normalized confusion matrix\n",
    "titles_options = [(\"Confusion matrix, without normalization\", None),\n",
    "                  (\"Normalized confusion matrix\", 'true')]\n",
    "for title, normalize in titles_options:\n",
    "    disp = plot_confusion_matrix(e_clf, x_test, y_test,\n",
    "                                 cmap=plt.cm.Blues,\n",
    "                                 normalize=normalize)\n",
    "    disp.ax_.set_title(title)\n",
    "\n",
    "    print(title)\n",
    "    print(disp.confusion_matrix)\n",
    "\n",
    "plt.show()"
   ]
  },
  {
   "cell_type": "code",
   "execution_count": 21,
   "metadata": {},
   "outputs": [
    {
     "name": "stdout",
     "output_type": "stream",
     "text": [
      "[[ 5  2]\n",
      " [ 0 32]]\n"
     ]
    }
   ],
   "source": [
    "cm = confusion_matrix(y_test,m_preds)\n",
    "print(cm)"
   ]
  },
  {
   "cell_type": "code",
   "execution_count": 22,
   "metadata": {},
   "outputs": [
    {
     "name": "stdout",
     "output_type": "stream",
     "text": [
      "[[ 4  3]\n",
      " [ 1 31]]\n"
     ]
    }
   ],
   "source": [
    "cm = confusion_matrix(y_test,min_preds)\n",
    "print(cm)"
   ]
  },
  {
   "cell_type": "markdown",
   "metadata": {},
   "source": [
    "* Print the <b>classification report</b>"
   ]
  },
  {
   "cell_type": "code",
   "execution_count": 23,
   "metadata": {},
   "outputs": [
    {
     "name": "stdout",
     "output_type": "stream",
     "text": [
      "              precision    recall  f1-score   support\n",
      "\n",
      "           0       1.00      0.71      0.83         7\n",
      "           1       0.94      1.00      0.97        32\n",
      "\n",
      "    accuracy                           0.95        39\n",
      "   macro avg       0.97      0.86      0.90        39\n",
      "weighted avg       0.95      0.95      0.95        39\n",
      "\n"
     ]
    }
   ],
   "source": [
    "print(classification_report(y_test,e_preds))"
   ]
  },
  {
   "cell_type": "code",
   "execution_count": 24,
   "metadata": {},
   "outputs": [
    {
     "name": "stdout",
     "output_type": "stream",
     "text": [
      "              precision    recall  f1-score   support\n",
      "\n",
      "           0       1.00      0.71      0.83         7\n",
      "           1       0.94      1.00      0.97        32\n",
      "\n",
      "    accuracy                           0.95        39\n",
      "   macro avg       0.97      0.86      0.90        39\n",
      "weighted avg       0.95      0.95      0.95        39\n",
      "\n"
     ]
    }
   ],
   "source": [
    "print(classification_report(y_test,m_preds))"
   ]
  },
  {
   "cell_type": "code",
   "execution_count": 25,
   "metadata": {},
   "outputs": [
    {
     "name": "stdout",
     "output_type": "stream",
     "text": [
      "              precision    recall  f1-score   support\n",
      "\n",
      "           0       0.80      0.57      0.67         7\n",
      "           1       0.91      0.97      0.94        32\n",
      "\n",
      "    accuracy                           0.90        39\n",
      "   macro avg       0.86      0.77      0.80        39\n",
      "weighted avg       0.89      0.90      0.89        39\n",
      "\n"
     ]
    }
   ],
   "source": [
    "print(classification_report(y_test,min_preds))"
   ]
  },
  {
   "cell_type": "markdown",
   "metadata": {},
   "source": [
    "* Print the <b>accuracy</b>"
   ]
  },
  {
   "cell_type": "code",
   "execution_count": 26,
   "metadata": {},
   "outputs": [
    {
     "name": "stdout",
     "output_type": "stream",
     "text": [
      "Accuracy using Eucledian distance and k = 3: 94.87179487179486\n"
     ]
    }
   ],
   "source": [
    "print('Accuracy using Eucledian distance and k = 3:',accuracy_score(y_test.tolist(), e_preds.tolist())*100)"
   ]
  },
  {
   "cell_type": "code",
   "execution_count": 27,
   "metadata": {},
   "outputs": [
    {
     "name": "stdout",
     "output_type": "stream",
     "text": [
      "Accuracy using Manhattan distance and k = 5: 94.87179487179486\n"
     ]
    }
   ],
   "source": [
    "print('Accuracy using Manhattan distance and k = 5:',accuracy_score(y_test.tolist(), m_preds.tolist())*100)"
   ]
  },
  {
   "cell_type": "code",
   "execution_count": 28,
   "metadata": {},
   "outputs": [
    {
     "name": "stdout",
     "output_type": "stream",
     "text": [
      "Accuracy using Minowski distance and k  = 7: 89.74358974358975\n"
     ]
    }
   ],
   "source": [
    "print('Accuracy using Minowski distance and k  = 7:',accuracy_score(y_test.tolist(), min_preds.tolist())*100)"
   ]
  },
  {
   "cell_type": "markdown",
   "metadata": {},
   "source": [
    "Therefore, it can be concluded that preprocessing the data using the MinMaxScaler for data preprocessing improves accuracy by high rates. Using Eucledian and Manhattan distances as metrics in the classifier with neighbors equal to 3 and 5 respectively produce a high accuracy of 94.87% "
   ]
  },
  {
   "cell_type": "code",
   "execution_count": null,
   "metadata": {},
   "outputs": [],
   "source": []
  }
 ],
 "metadata": {
  "kernelspec": {
   "display_name": "Python 3",
   "language": "python",
   "name": "python3"
  },
  "language_info": {
   "codemirror_mode": {
    "name": "ipython",
    "version": 3
   },
   "file_extension": ".py",
   "mimetype": "text/x-python",
   "name": "python",
   "nbconvert_exporter": "python",
   "pygments_lexer": "ipython3",
   "version": "3.7.6"
  }
 },
 "nbformat": 4,
 "nbformat_minor": 2
}
